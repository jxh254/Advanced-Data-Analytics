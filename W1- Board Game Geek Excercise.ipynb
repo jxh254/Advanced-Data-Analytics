{
 "cells": [
  {
   "cell_type": "markdown",
   "metadata": {},
   "source": [
    "# Week 1 Excercise\n",
    "# In a Jupyter Notebook, read in the data for each table. Use code to show the number of rows and columns for each table in the database"
   ]
  },
  {
   "cell_type": "markdown",
   "metadata": {},
   "source": [
    "## 0. Setup"
   ]
  },
  {
   "cell_type": "code",
   "execution_count": 1,
   "metadata": {},
   "outputs": [],
   "source": [
    "#library to use dataframes\n",
    "import pandas as pd\n",
    "\n",
    "#library to conect & interact with databases\n",
    "from sqlalchemy import create_engine, inspect"
   ]
  },
  {
   "cell_type": "markdown",
   "metadata": {},
   "source": [
    "## 1. Connect to database"
   ]
  },
  {
   "cell_type": "code",
   "execution_count": 3,
   "metadata": {},
   "outputs": [],
   "source": [
    "#set the databse file location to a variable\n",
    "db_file = r\"C:/Users/jholmes/Documents/Advanced Data Analytics Class/Data/boardgames.sqlite\"\n",
    "\n",
    "#set the connection to SQLite database in a variable\n",
    "engine = create_engine(f\"sqlite:///{db_file}\")"
   ]
  },
  {
   "cell_type": "code",
   "execution_count": 4,
   "metadata": {},
   "outputs": [
    {
     "data": {
      "text/plain": [
       "['BoardGames',\n",
       " 'bgg.ldaOut.top.documents',\n",
       " 'bgg.ldaOut.top.terms',\n",
       " 'bgg.ldaOut.topics',\n",
       " 'bgg.topics']"
      ]
     },
     "execution_count": 4,
     "metadata": {},
     "output_type": "execute_result"
    }
   ],
   "source": [
    "## get a list of all tables in the database\n",
    "\n",
    "engine.table_names()"
   ]
  },
  {
   "cell_type": "markdown",
   "metadata": {},
   "source": [
    "## 2. Collect data"
   ]
  },
  {
   "cell_type": "code",
   "execution_count": 5,
   "metadata": {},
   "outputs": [],
   "source": [
    "#define SQL commands for each table\n",
    "#periods in table names do not play well with SQL -> use []\n",
    "\n",
    "sql_boardgames = \"SELECT * FROM [BoardGames];\"\n",
    "sql_docs = \"SELECT * FROM [bgg.ldaOut.top.documents];\"\n",
    "sql_terms = \"SELECT * FROM [bgg.ldaOut.top.terms];\"\n",
    "sql_topics = \"SELECT * FROM [bgg.topics]\""
   ]
  },
  {
   "cell_type": "code",
   "execution_count": 8,
   "metadata": {},
   "outputs": [],
   "source": [
    "#turn query results into a dataframe\n",
    "#the read_sql function takes in the SQL statement for the information requested and the engine (to connect to database)\n",
    "\n",
    "boardgames_df = pd.read_sql(sql_boardgames, engine)\n",
    "docs_df = pd.read_sql(sql_docs, engine)\n",
    "terms_df = pd.read_sql(sql_terms, engine)\n",
    "topics_df = pd.read_sql(sql_topics, engine)"
   ]
  },
  {
   "cell_type": "markdown",
   "metadata": {},
   "source": [
    "## 2. Find dimensions of each table"
   ]
  },
  {
   "cell_type": "code",
   "execution_count": 11,
   "metadata": {},
   "outputs": [
    {
     "name": "stdout",
     "output_type": "stream",
     "text": [
      "(90400, 81)\n"
     ]
    }
   ],
   "source": [
    "print(boardgames_df.shape)"
   ]
  },
  {
   "cell_type": "code",
   "execution_count": 12,
   "metadata": {},
   "outputs": [
    {
     "name": "stdout",
     "output_type": "stream",
     "text": [
      "(288, 4)\n"
     ]
    }
   ],
   "source": [
    "print(docs_df.shape)"
   ]
  },
  {
   "cell_type": "code",
   "execution_count": 13,
   "metadata": {},
   "outputs": [
    {
     "name": "stdout",
     "output_type": "stream",
     "text": [
      "(250, 4)\n"
     ]
    }
   ],
   "source": [
    "print(terms_df.shape)"
   ]
  },
  {
   "cell_type": "code",
   "execution_count": 14,
   "metadata": {},
   "outputs": [
    {
     "name": "stdout",
     "output_type": "stream",
     "text": [
      "(29313, 74)\n"
     ]
    }
   ],
   "source": [
    "print(topics_df.shape)"
   ]
  },
  {
   "cell_type": "code",
   "execution_count": null,
   "metadata": {},
   "outputs": [],
   "source": []
  }
 ],
 "metadata": {
  "kernelspec": {
   "display_name": "Python 3",
   "language": "python",
   "name": "python3"
  },
  "language_info": {
   "codemirror_mode": {
    "name": "ipython",
    "version": 3
   },
   "file_extension": ".py",
   "mimetype": "text/x-python",
   "name": "python",
   "nbconvert_exporter": "python",
   "pygments_lexer": "ipython3",
   "version": "3.7.6"
  }
 },
 "nbformat": 4,
 "nbformat_minor": 4
}
